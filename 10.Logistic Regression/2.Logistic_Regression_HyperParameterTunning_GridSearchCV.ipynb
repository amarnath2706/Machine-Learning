{
  "nbformat": 4,
  "nbformat_minor": 0,
  "metadata": {
    "colab": {
      "provenance": []
    },
    "kernelspec": {
      "name": "python3",
      "display_name": "Python 3"
    },
    "language_info": {
      "name": "python"
    }
  },
  "cells": [
    {
      "cell_type": "code",
      "execution_count": 1,
      "metadata": {
        "id": "WDwBScIW5pOF"
      },
      "outputs": [],
      "source": [
        "import pandas as pd\n",
        "import numpy as np\n",
        "import matplotlib.pyplot as plt\n",
        "import seaborn as sns"
      ]
    },
    {
      "cell_type": "code",
      "source": [
        "#Binary Class Classification\n",
        "from sklearn.datasets import make_classification"
      ],
      "metadata": {
        "id": "PJm2n5gk6ExW"
      },
      "execution_count": 3,
      "outputs": []
    },
    {
      "cell_type": "code",
      "source": [
        "X,Y=make_classification(n_samples=1000,n_features=10,n_classes=2,random_state=12)"
      ],
      "metadata": {
        "id": "hSpxKttE6XlQ"
      },
      "execution_count": 19,
      "outputs": []
    },
    {
      "cell_type": "code",
      "source": [
        "X"
      ],
      "metadata": {
        "colab": {
          "base_uri": "https://localhost:8080/"
        },
        "id": "brZIIuy863xi",
        "outputId": "54c5fa1e-238e-46f3-a539-865e32794707"
      },
      "execution_count": 20,
      "outputs": [
        {
          "output_type": "execute_result",
          "data": {
            "text/plain": [
              "array([[-1.36188762, -0.38852555, -0.68700494, ..., -0.59993549,\n",
              "         1.65727569,  0.58826194],\n",
              "       [-1.55907147, -0.32641019,  0.17057821, ..., -1.1032606 ,\n",
              "        -0.2999431 ,  2.57855637],\n",
              "       [ 0.74830157,  0.51136195,  0.65880056, ..., -0.25711479,\n",
              "        -0.03294953,  1.3797154 ],\n",
              "       ...,\n",
              "       [-0.36477962,  0.32379489, -0.21190752, ...,  0.7912045 ,\n",
              "         1.16610239,  1.85482198],\n",
              "       [ 0.92183889, -0.41570846, -0.018183  , ...,  0.47486451,\n",
              "         0.61097645, -0.51431929],\n",
              "       [ 0.3040265 , -0.14998645, -0.65565164, ...,  2.15265808,\n",
              "        -0.948752  ,  0.20148097]])"
            ]
          },
          "metadata": {},
          "execution_count": 20
        }
      ]
    },
    {
      "cell_type": "code",
      "source": [
        "Y"
      ],
      "metadata": {
        "colab": {
          "base_uri": "https://localhost:8080/"
        },
        "id": "jrQX9Wmq64cR",
        "outputId": "40c594ad-a2be-4592-e229-02564316b8d6"
      },
      "execution_count": 21,
      "outputs": [
        {
          "output_type": "execute_result",
          "data": {
            "text/plain": [
              "array([1, 1, 0, 1, 0, 0, 1, 0, 0, 1, 0, 1, 0, 1, 0, 0, 1, 0, 0, 0, 0, 0,\n",
              "       1, 1, 1, 1, 1, 1, 0, 0, 0, 1, 0, 0, 1, 1, 0, 0, 1, 0, 1, 1, 0, 1,\n",
              "       0, 1, 0, 1, 1, 0, 0, 0, 1, 0, 0, 0, 1, 1, 0, 0, 0, 0, 0, 0, 1, 0,\n",
              "       1, 0, 1, 1, 1, 1, 1, 0, 0, 1, 1, 0, 0, 1, 0, 0, 1, 0, 1, 1, 0, 0,\n",
              "       1, 1, 1, 0, 0, 1, 0, 0, 1, 1, 0, 0, 0, 1, 1, 0, 0, 1, 1, 0, 0, 1,\n",
              "       0, 1, 0, 0, 1, 0, 0, 0, 0, 0, 0, 1, 1, 1, 1, 0, 1, 0, 0, 1, 1, 0,\n",
              "       1, 1, 0, 0, 0, 1, 0, 0, 1, 0, 0, 1, 1, 1, 0, 0, 1, 0, 0, 1, 1, 0,\n",
              "       1, 1, 1, 1, 1, 0, 1, 0, 1, 1, 0, 1, 1, 1, 0, 1, 0, 0, 1, 0, 0, 0,\n",
              "       0, 0, 0, 1, 1, 0, 1, 1, 1, 0, 1, 1, 0, 1, 0, 0, 0, 0, 1, 0, 0, 0,\n",
              "       1, 0, 1, 0, 0, 0, 1, 1, 1, 1, 1, 0, 1, 0, 1, 1, 0, 0, 0, 0, 1, 1,\n",
              "       1, 1, 0, 0, 0, 1, 1, 1, 1, 0, 1, 1, 0, 0, 1, 0, 1, 1, 0, 1, 1, 0,\n",
              "       0, 1, 0, 1, 1, 1, 1, 1, 1, 0, 0, 1, 1, 1, 1, 1, 1, 1, 0, 1, 1, 0,\n",
              "       0, 1, 1, 1, 1, 0, 1, 1, 0, 0, 0, 1, 1, 1, 1, 1, 1, 1, 0, 0, 1, 1,\n",
              "       0, 1, 1, 1, 1, 1, 1, 1, 0, 1, 1, 1, 1, 1, 1, 0, 0, 1, 0, 0, 1, 0,\n",
              "       1, 1, 0, 1, 1, 1, 1, 1, 0, 0, 0, 1, 1, 1, 0, 0, 1, 0, 1, 1, 1, 0,\n",
              "       1, 1, 1, 1, 0, 0, 0, 0, 0, 0, 1, 1, 0, 0, 1, 0, 0, 1, 0, 0, 1, 0,\n",
              "       0, 0, 1, 0, 1, 1, 1, 1, 0, 0, 1, 0, 0, 1, 0, 0, 1, 0, 1, 1, 0, 1,\n",
              "       1, 0, 0, 0, 1, 0, 0, 1, 0, 0, 1, 0, 1, 0, 0, 1, 0, 1, 0, 1, 0, 0,\n",
              "       1, 0, 0, 1, 1, 0, 0, 0, 0, 0, 1, 1, 1, 0, 1, 1, 1, 1, 1, 1, 1, 1,\n",
              "       1, 1, 1, 0, 1, 1, 1, 0, 1, 0, 1, 0, 1, 1, 1, 1, 1, 1, 0, 1, 0, 1,\n",
              "       1, 0, 1, 0, 0, 0, 1, 1, 0, 0, 0, 0, 1, 1, 1, 1, 1, 1, 1, 1, 0, 1,\n",
              "       0, 0, 0, 1, 1, 0, 1, 0, 1, 0, 1, 0, 1, 0, 1, 0, 0, 1, 0, 1, 0, 1,\n",
              "       1, 1, 0, 1, 0, 0, 0, 0, 1, 1, 1, 0, 1, 1, 1, 1, 0, 0, 0, 1, 1, 0,\n",
              "       0, 1, 1, 0, 1, 1, 0, 0, 0, 1, 1, 0, 0, 0, 0, 0, 1, 1, 0, 1, 0, 1,\n",
              "       0, 1, 1, 0, 0, 1, 1, 0, 0, 1, 1, 1, 0, 1, 0, 0, 0, 0, 0, 1, 0, 0,\n",
              "       1, 0, 0, 1, 0, 1, 0, 1, 1, 0, 0, 1, 0, 1, 0, 1, 0, 1, 1, 0, 1, 0,\n",
              "       0, 1, 0, 1, 1, 0, 1, 0, 0, 1, 0, 0, 0, 0, 0, 1, 0, 0, 0, 1, 1, 0,\n",
              "       1, 1, 0, 1, 0, 1, 1, 1, 0, 1, 0, 0, 1, 0, 0, 1, 1, 1, 1, 1, 1, 1,\n",
              "       0, 0, 1, 1, 1, 1, 0, 0, 0, 1, 1, 0, 0, 1, 0, 0, 1, 1, 0, 1, 1, 0,\n",
              "       1, 0, 0, 1, 0, 0, 0, 1, 0, 1, 1, 0, 1, 1, 1, 1, 0, 1, 1, 0, 1, 1,\n",
              "       1, 1, 0, 0, 0, 1, 1, 1, 0, 1, 0, 1, 1, 1, 1, 0, 1, 1, 1, 0, 0, 0,\n",
              "       1, 1, 0, 0, 1, 1, 1, 0, 0, 0, 1, 1, 0, 0, 1, 0, 0, 1, 1, 0, 0, 0,\n",
              "       0, 0, 1, 1, 0, 0, 0, 1, 0, 0, 0, 1, 0, 0, 0, 0, 0, 1, 1, 0, 0, 0,\n",
              "       1, 0, 1, 1, 1, 0, 1, 0, 0, 1, 0, 1, 1, 0, 1, 0, 0, 1, 0, 1, 1, 0,\n",
              "       0, 0, 1, 0, 1, 0, 1, 0, 0, 1, 0, 0, 1, 0, 1, 0, 0, 0, 1, 1, 0, 1,\n",
              "       0, 0, 0, 0, 0, 0, 1, 1, 0, 1, 0, 0, 0, 1, 1, 0, 0, 1, 0, 0, 0, 1,\n",
              "       1, 0, 0, 1, 0, 0, 0, 0, 1, 0, 1, 0, 0, 1, 0, 1, 0, 1, 1, 0, 1, 0,\n",
              "       0, 0, 1, 1, 1, 0, 0, 0, 0, 0, 1, 1, 1, 0, 1, 0, 1, 0, 0, 0, 0, 1,\n",
              "       0, 0, 1, 0, 0, 1, 1, 1, 1, 0, 1, 0, 1, 1, 0, 0, 0, 1, 1, 0, 0, 0,\n",
              "       1, 0, 1, 1, 0, 1, 0, 1, 1, 1, 0, 0, 0, 0, 0, 1, 1, 0, 0, 1, 1, 0,\n",
              "       1, 1, 1, 1, 0, 0, 1, 0, 0, 1, 0, 0, 1, 1, 0, 1, 1, 1, 0, 0, 0, 0,\n",
              "       1, 0, 1, 1, 0, 1, 0, 1, 0, 1, 0, 1, 0, 1, 0, 1, 0, 0, 0, 0, 0, 1,\n",
              "       0, 0, 0, 0, 0, 1, 0, 0, 0, 1, 1, 0, 1, 1, 0, 1, 1, 1, 0, 1, 1, 0,\n",
              "       0, 0, 0, 1, 1, 0, 0, 1, 0, 1, 1, 0, 1, 0, 0, 0, 1, 1, 0, 0, 0, 0,\n",
              "       0, 1, 1, 0, 1, 0, 0, 0, 1, 0, 0, 1, 1, 1, 1, 1, 1, 0, 1, 0, 1, 0,\n",
              "       1, 1, 1, 1, 1, 0, 0, 0, 1, 1])"
            ]
          },
          "metadata": {},
          "execution_count": 21
        }
      ]
    },
    {
      "cell_type": "code",
      "source": [
        "pd.DataFrame(X)"
      ],
      "metadata": {
        "colab": {
          "base_uri": "https://localhost:8080/",
          "height": 423
        },
        "id": "_zgxdLQI64vU",
        "outputId": "3ab4e20b-e0f7-4f5f-c1a4-3acf3fb67e5c"
      },
      "execution_count": 22,
      "outputs": [
        {
          "output_type": "execute_result",
          "data": {
            "text/plain": [
              "            0         1         2         3         4         5         6  \\\n",
              "0   -1.361888 -0.388526 -0.687005  0.054313 -1.085694  1.122830 -1.338670   \n",
              "1   -1.559071 -0.326410  0.170578  0.289913  1.304315  1.280638 -0.916428   \n",
              "2    0.748302  0.511362  0.658801 -0.434340  0.701522 -1.588531 -0.375476   \n",
              "3   -0.315214 -0.767714  0.369249 -0.330236  2.973036  2.997636  0.678615   \n",
              "4   -1.654782 -0.048819 -0.119700 -1.297692 -0.235352  0.126030 -1.416322   \n",
              "..        ...       ...       ...       ...       ...       ...       ...   \n",
              "995 -0.116902  0.228621 -0.254905  0.928581 -1.314989 -0.958066 -0.577889   \n",
              "996 -0.463243  0.480664 -0.549567 -0.123899 -2.805139 -2.020440 -0.608644   \n",
              "997 -0.364780  0.323795 -0.211908 -0.445859 -1.420422 -1.289637  0.046983   \n",
              "998  0.921839 -0.415708 -0.018183  0.782068  0.963305  1.524786  0.721108   \n",
              "999  0.304026 -0.149986 -0.655652  0.772343 -1.576442  0.257325  0.252415   \n",
              "\n",
              "            7         8         9  \n",
              "0   -0.599935  1.657276  0.588262  \n",
              "1   -1.103261 -0.299943  2.578556  \n",
              "2   -0.257115 -0.032950  1.379715  \n",
              "3   -0.034100  1.276816 -1.215973  \n",
              "4    1.106680 -1.588829 -1.557777  \n",
              "..        ...       ...       ...  \n",
              "995 -0.155235 -0.624097 -0.455986  \n",
              "996  0.485689  0.692041  0.938690  \n",
              "997  0.791205  1.166102  1.854822  \n",
              "998  0.474865  0.610976 -0.514319  \n",
              "999  2.152658 -0.948752  0.201481  \n",
              "\n",
              "[1000 rows x 10 columns]"
            ],
            "text/html": [
              "\n",
              "  <div id=\"df-3d5b9b65-f8ef-403f-b7c3-9035d094b801\" class=\"colab-df-container\">\n",
              "    <div>\n",
              "<style scoped>\n",
              "    .dataframe tbody tr th:only-of-type {\n",
              "        vertical-align: middle;\n",
              "    }\n",
              "\n",
              "    .dataframe tbody tr th {\n",
              "        vertical-align: top;\n",
              "    }\n",
              "\n",
              "    .dataframe thead th {\n",
              "        text-align: right;\n",
              "    }\n",
              "</style>\n",
              "<table border=\"1\" class=\"dataframe\">\n",
              "  <thead>\n",
              "    <tr style=\"text-align: right;\">\n",
              "      <th></th>\n",
              "      <th>0</th>\n",
              "      <th>1</th>\n",
              "      <th>2</th>\n",
              "      <th>3</th>\n",
              "      <th>4</th>\n",
              "      <th>5</th>\n",
              "      <th>6</th>\n",
              "      <th>7</th>\n",
              "      <th>8</th>\n",
              "      <th>9</th>\n",
              "    </tr>\n",
              "  </thead>\n",
              "  <tbody>\n",
              "    <tr>\n",
              "      <th>0</th>\n",
              "      <td>-1.361888</td>\n",
              "      <td>-0.388526</td>\n",
              "      <td>-0.687005</td>\n",
              "      <td>0.054313</td>\n",
              "      <td>-1.085694</td>\n",
              "      <td>1.122830</td>\n",
              "      <td>-1.338670</td>\n",
              "      <td>-0.599935</td>\n",
              "      <td>1.657276</td>\n",
              "      <td>0.588262</td>\n",
              "    </tr>\n",
              "    <tr>\n",
              "      <th>1</th>\n",
              "      <td>-1.559071</td>\n",
              "      <td>-0.326410</td>\n",
              "      <td>0.170578</td>\n",
              "      <td>0.289913</td>\n",
              "      <td>1.304315</td>\n",
              "      <td>1.280638</td>\n",
              "      <td>-0.916428</td>\n",
              "      <td>-1.103261</td>\n",
              "      <td>-0.299943</td>\n",
              "      <td>2.578556</td>\n",
              "    </tr>\n",
              "    <tr>\n",
              "      <th>2</th>\n",
              "      <td>0.748302</td>\n",
              "      <td>0.511362</td>\n",
              "      <td>0.658801</td>\n",
              "      <td>-0.434340</td>\n",
              "      <td>0.701522</td>\n",
              "      <td>-1.588531</td>\n",
              "      <td>-0.375476</td>\n",
              "      <td>-0.257115</td>\n",
              "      <td>-0.032950</td>\n",
              "      <td>1.379715</td>\n",
              "    </tr>\n",
              "    <tr>\n",
              "      <th>3</th>\n",
              "      <td>-0.315214</td>\n",
              "      <td>-0.767714</td>\n",
              "      <td>0.369249</td>\n",
              "      <td>-0.330236</td>\n",
              "      <td>2.973036</td>\n",
              "      <td>2.997636</td>\n",
              "      <td>0.678615</td>\n",
              "      <td>-0.034100</td>\n",
              "      <td>1.276816</td>\n",
              "      <td>-1.215973</td>\n",
              "    </tr>\n",
              "    <tr>\n",
              "      <th>4</th>\n",
              "      <td>-1.654782</td>\n",
              "      <td>-0.048819</td>\n",
              "      <td>-0.119700</td>\n",
              "      <td>-1.297692</td>\n",
              "      <td>-0.235352</td>\n",
              "      <td>0.126030</td>\n",
              "      <td>-1.416322</td>\n",
              "      <td>1.106680</td>\n",
              "      <td>-1.588829</td>\n",
              "      <td>-1.557777</td>\n",
              "    </tr>\n",
              "    <tr>\n",
              "      <th>...</th>\n",
              "      <td>...</td>\n",
              "      <td>...</td>\n",
              "      <td>...</td>\n",
              "      <td>...</td>\n",
              "      <td>...</td>\n",
              "      <td>...</td>\n",
              "      <td>...</td>\n",
              "      <td>...</td>\n",
              "      <td>...</td>\n",
              "      <td>...</td>\n",
              "    </tr>\n",
              "    <tr>\n",
              "      <th>995</th>\n",
              "      <td>-0.116902</td>\n",
              "      <td>0.228621</td>\n",
              "      <td>-0.254905</td>\n",
              "      <td>0.928581</td>\n",
              "      <td>-1.314989</td>\n",
              "      <td>-0.958066</td>\n",
              "      <td>-0.577889</td>\n",
              "      <td>-0.155235</td>\n",
              "      <td>-0.624097</td>\n",
              "      <td>-0.455986</td>\n",
              "    </tr>\n",
              "    <tr>\n",
              "      <th>996</th>\n",
              "      <td>-0.463243</td>\n",
              "      <td>0.480664</td>\n",
              "      <td>-0.549567</td>\n",
              "      <td>-0.123899</td>\n",
              "      <td>-2.805139</td>\n",
              "      <td>-2.020440</td>\n",
              "      <td>-0.608644</td>\n",
              "      <td>0.485689</td>\n",
              "      <td>0.692041</td>\n",
              "      <td>0.938690</td>\n",
              "    </tr>\n",
              "    <tr>\n",
              "      <th>997</th>\n",
              "      <td>-0.364780</td>\n",
              "      <td>0.323795</td>\n",
              "      <td>-0.211908</td>\n",
              "      <td>-0.445859</td>\n",
              "      <td>-1.420422</td>\n",
              "      <td>-1.289637</td>\n",
              "      <td>0.046983</td>\n",
              "      <td>0.791205</td>\n",
              "      <td>1.166102</td>\n",
              "      <td>1.854822</td>\n",
              "    </tr>\n",
              "    <tr>\n",
              "      <th>998</th>\n",
              "      <td>0.921839</td>\n",
              "      <td>-0.415708</td>\n",
              "      <td>-0.018183</td>\n",
              "      <td>0.782068</td>\n",
              "      <td>0.963305</td>\n",
              "      <td>1.524786</td>\n",
              "      <td>0.721108</td>\n",
              "      <td>0.474865</td>\n",
              "      <td>0.610976</td>\n",
              "      <td>-0.514319</td>\n",
              "    </tr>\n",
              "    <tr>\n",
              "      <th>999</th>\n",
              "      <td>0.304026</td>\n",
              "      <td>-0.149986</td>\n",
              "      <td>-0.655652</td>\n",
              "      <td>0.772343</td>\n",
              "      <td>-1.576442</td>\n",
              "      <td>0.257325</td>\n",
              "      <td>0.252415</td>\n",
              "      <td>2.152658</td>\n",
              "      <td>-0.948752</td>\n",
              "      <td>0.201481</td>\n",
              "    </tr>\n",
              "  </tbody>\n",
              "</table>\n",
              "<p>1000 rows × 10 columns</p>\n",
              "</div>\n",
              "    <div class=\"colab-df-buttons\">\n",
              "\n",
              "  <div class=\"colab-df-container\">\n",
              "    <button class=\"colab-df-convert\" onclick=\"convertToInteractive('df-3d5b9b65-f8ef-403f-b7c3-9035d094b801')\"\n",
              "            title=\"Convert this dataframe to an interactive table.\"\n",
              "            style=\"display:none;\">\n",
              "\n",
              "  <svg xmlns=\"http://www.w3.org/2000/svg\" height=\"24px\" viewBox=\"0 -960 960 960\">\n",
              "    <path d=\"M120-120v-720h720v720H120Zm60-500h600v-160H180v160Zm220 220h160v-160H400v160Zm0 220h160v-160H400v160ZM180-400h160v-160H180v160Zm440 0h160v-160H620v160ZM180-180h160v-160H180v160Zm440 0h160v-160H620v160Z\"/>\n",
              "  </svg>\n",
              "    </button>\n",
              "\n",
              "  <style>\n",
              "    .colab-df-container {\n",
              "      display:flex;\n",
              "      gap: 12px;\n",
              "    }\n",
              "\n",
              "    .colab-df-convert {\n",
              "      background-color: #E8F0FE;\n",
              "      border: none;\n",
              "      border-radius: 50%;\n",
              "      cursor: pointer;\n",
              "      display: none;\n",
              "      fill: #1967D2;\n",
              "      height: 32px;\n",
              "      padding: 0 0 0 0;\n",
              "      width: 32px;\n",
              "    }\n",
              "\n",
              "    .colab-df-convert:hover {\n",
              "      background-color: #E2EBFA;\n",
              "      box-shadow: 0px 1px 2px rgba(60, 64, 67, 0.3), 0px 1px 3px 1px rgba(60, 64, 67, 0.15);\n",
              "      fill: #174EA6;\n",
              "    }\n",
              "\n",
              "    .colab-df-buttons div {\n",
              "      margin-bottom: 4px;\n",
              "    }\n",
              "\n",
              "    [theme=dark] .colab-df-convert {\n",
              "      background-color: #3B4455;\n",
              "      fill: #D2E3FC;\n",
              "    }\n",
              "\n",
              "    [theme=dark] .colab-df-convert:hover {\n",
              "      background-color: #434B5C;\n",
              "      box-shadow: 0px 1px 3px 1px rgba(0, 0, 0, 0.15);\n",
              "      filter: drop-shadow(0px 1px 2px rgba(0, 0, 0, 0.3));\n",
              "      fill: #FFFFFF;\n",
              "    }\n",
              "  </style>\n",
              "\n",
              "    <script>\n",
              "      const buttonEl =\n",
              "        document.querySelector('#df-3d5b9b65-f8ef-403f-b7c3-9035d094b801 button.colab-df-convert');\n",
              "      buttonEl.style.display =\n",
              "        google.colab.kernel.accessAllowed ? 'block' : 'none';\n",
              "\n",
              "      async function convertToInteractive(key) {\n",
              "        const element = document.querySelector('#df-3d5b9b65-f8ef-403f-b7c3-9035d094b801');\n",
              "        const dataTable =\n",
              "          await google.colab.kernel.invokeFunction('convertToInteractive',\n",
              "                                                    [key], {});\n",
              "        if (!dataTable) return;\n",
              "\n",
              "        const docLinkHtml = 'Like what you see? Visit the ' +\n",
              "          '<a target=\"_blank\" href=https://colab.research.google.com/notebooks/data_table.ipynb>data table notebook</a>'\n",
              "          + ' to learn more about interactive tables.';\n",
              "        element.innerHTML = '';\n",
              "        dataTable['output_type'] = 'display_data';\n",
              "        await google.colab.output.renderOutput(dataTable, element);\n",
              "        const docLink = document.createElement('div');\n",
              "        docLink.innerHTML = docLinkHtml;\n",
              "        element.appendChild(docLink);\n",
              "      }\n",
              "    </script>\n",
              "  </div>\n",
              "\n",
              "\n",
              "<div id=\"df-c99c1489-9c20-481b-8d12-3019416ddaed\">\n",
              "  <button class=\"colab-df-quickchart\" onclick=\"quickchart('df-c99c1489-9c20-481b-8d12-3019416ddaed')\"\n",
              "            title=\"Suggest charts\"\n",
              "            style=\"display:none;\">\n",
              "\n",
              "<svg xmlns=\"http://www.w3.org/2000/svg\" height=\"24px\"viewBox=\"0 0 24 24\"\n",
              "     width=\"24px\">\n",
              "    <g>\n",
              "        <path d=\"M19 3H5c-1.1 0-2 .9-2 2v14c0 1.1.9 2 2 2h14c1.1 0 2-.9 2-2V5c0-1.1-.9-2-2-2zM9 17H7v-7h2v7zm4 0h-2V7h2v10zm4 0h-2v-4h2v4z\"/>\n",
              "    </g>\n",
              "</svg>\n",
              "  </button>\n",
              "\n",
              "<style>\n",
              "  .colab-df-quickchart {\n",
              "      --bg-color: #E8F0FE;\n",
              "      --fill-color: #1967D2;\n",
              "      --hover-bg-color: #E2EBFA;\n",
              "      --hover-fill-color: #174EA6;\n",
              "      --disabled-fill-color: #AAA;\n",
              "      --disabled-bg-color: #DDD;\n",
              "  }\n",
              "\n",
              "  [theme=dark] .colab-df-quickchart {\n",
              "      --bg-color: #3B4455;\n",
              "      --fill-color: #D2E3FC;\n",
              "      --hover-bg-color: #434B5C;\n",
              "      --hover-fill-color: #FFFFFF;\n",
              "      --disabled-bg-color: #3B4455;\n",
              "      --disabled-fill-color: #666;\n",
              "  }\n",
              "\n",
              "  .colab-df-quickchart {\n",
              "    background-color: var(--bg-color);\n",
              "    border: none;\n",
              "    border-radius: 50%;\n",
              "    cursor: pointer;\n",
              "    display: none;\n",
              "    fill: var(--fill-color);\n",
              "    height: 32px;\n",
              "    padding: 0;\n",
              "    width: 32px;\n",
              "  }\n",
              "\n",
              "  .colab-df-quickchart:hover {\n",
              "    background-color: var(--hover-bg-color);\n",
              "    box-shadow: 0 1px 2px rgba(60, 64, 67, 0.3), 0 1px 3px 1px rgba(60, 64, 67, 0.15);\n",
              "    fill: var(--button-hover-fill-color);\n",
              "  }\n",
              "\n",
              "  .colab-df-quickchart-complete:disabled,\n",
              "  .colab-df-quickchart-complete:disabled:hover {\n",
              "    background-color: var(--disabled-bg-color);\n",
              "    fill: var(--disabled-fill-color);\n",
              "    box-shadow: none;\n",
              "  }\n",
              "\n",
              "  .colab-df-spinner {\n",
              "    border: 2px solid var(--fill-color);\n",
              "    border-color: transparent;\n",
              "    border-bottom-color: var(--fill-color);\n",
              "    animation:\n",
              "      spin 1s steps(1) infinite;\n",
              "  }\n",
              "\n",
              "  @keyframes spin {\n",
              "    0% {\n",
              "      border-color: transparent;\n",
              "      border-bottom-color: var(--fill-color);\n",
              "      border-left-color: var(--fill-color);\n",
              "    }\n",
              "    20% {\n",
              "      border-color: transparent;\n",
              "      border-left-color: var(--fill-color);\n",
              "      border-top-color: var(--fill-color);\n",
              "    }\n",
              "    30% {\n",
              "      border-color: transparent;\n",
              "      border-left-color: var(--fill-color);\n",
              "      border-top-color: var(--fill-color);\n",
              "      border-right-color: var(--fill-color);\n",
              "    }\n",
              "    40% {\n",
              "      border-color: transparent;\n",
              "      border-right-color: var(--fill-color);\n",
              "      border-top-color: var(--fill-color);\n",
              "    }\n",
              "    60% {\n",
              "      border-color: transparent;\n",
              "      border-right-color: var(--fill-color);\n",
              "    }\n",
              "    80% {\n",
              "      border-color: transparent;\n",
              "      border-right-color: var(--fill-color);\n",
              "      border-bottom-color: var(--fill-color);\n",
              "    }\n",
              "    90% {\n",
              "      border-color: transparent;\n",
              "      border-bottom-color: var(--fill-color);\n",
              "    }\n",
              "  }\n",
              "</style>\n",
              "\n",
              "  <script>\n",
              "    async function quickchart(key) {\n",
              "      const quickchartButtonEl =\n",
              "        document.querySelector('#' + key + ' button');\n",
              "      quickchartButtonEl.disabled = true;  // To prevent multiple clicks.\n",
              "      quickchartButtonEl.classList.add('colab-df-spinner');\n",
              "      try {\n",
              "        const charts = await google.colab.kernel.invokeFunction(\n",
              "            'suggestCharts', [key], {});\n",
              "      } catch (error) {\n",
              "        console.error('Error during call to suggestCharts:', error);\n",
              "      }\n",
              "      quickchartButtonEl.classList.remove('colab-df-spinner');\n",
              "      quickchartButtonEl.classList.add('colab-df-quickchart-complete');\n",
              "    }\n",
              "    (() => {\n",
              "      let quickchartButtonEl =\n",
              "        document.querySelector('#df-c99c1489-9c20-481b-8d12-3019416ddaed button');\n",
              "      quickchartButtonEl.style.display =\n",
              "        google.colab.kernel.accessAllowed ? 'block' : 'none';\n",
              "    })();\n",
              "  </script>\n",
              "</div>\n",
              "\n",
              "    </div>\n",
              "  </div>\n"
            ],
            "application/vnd.google.colaboratory.intrinsic+json": {
              "type": "dataframe",
              "summary": "{\n  \"name\": \"pd\",\n  \"rows\": 1000,\n  \"fields\": [\n    {\n      \"column\": 0,\n      \"properties\": {\n        \"dtype\": \"number\",\n        \"std\": 1.0207487127524606,\n        \"min\": -2.871291956928657,\n        \"max\": 3.1561996205258085,\n        \"num_unique_values\": 1000,\n        \"samples\": [\n          0.5912395626725774,\n          -0.4863633595122012,\n          -1.5312220719924752\n        ],\n        \"semantic_type\": \"\",\n        \"description\": \"\"\n      }\n    },\n    {\n      \"column\": 1,\n      \"properties\": {\n        \"dtype\": \"number\",\n        \"std\": 0.39806062997751956,\n        \"min\": -1.2529843235763392,\n        \"max\": 1.254607985123461,\n        \"num_unique_values\": 1000,\n        \"samples\": [\n          0.1206030388552204,\n          -0.34250898814692154,\n          -0.13555289413726523\n        ],\n        \"semantic_type\": \"\",\n        \"description\": \"\"\n      }\n    },\n    {\n      \"column\": 2,\n      \"properties\": {\n        \"dtype\": \"number\",\n        \"std\": 0.4906021122488628,\n        \"min\": -1.083402436559021,\n        \"max\": 1.02582379404617,\n        \"num_unique_values\": 1000,\n        \"samples\": [\n          0.8229212862348795,\n          -0.6632923065454988,\n          -0.5931127619100408\n        ],\n        \"semantic_type\": \"\",\n        \"description\": \"\"\n      }\n    },\n    {\n      \"column\": 3,\n      \"properties\": {\n        \"dtype\": \"number\",\n        \"std\": 1.0017588334330019,\n        \"min\": -3.4105207790021006,\n        \"max\": 3.8085663482139127,\n        \"num_unique_values\": 1000,\n        \"samples\": [\n          0.13875426011293193,\n          1.2669241273649654,\n          0.564639222103649\n        ],\n        \"semantic_type\": \"\",\n        \"description\": \"\"\n      }\n    },\n    {\n      \"column\": 4,\n      \"properties\": {\n        \"dtype\": \"number\",\n        \"std\": 1.241154669099173,\n        \"min\": -3.4405808613156545,\n        \"max\": 3.976007933745124,\n        \"num_unique_values\": 1000,\n        \"samples\": [\n          2.1441523914507554,\n          -1.1280048453938052,\n          -1.426385812508233\n        ],\n        \"semantic_type\": \"\",\n        \"description\": \"\"\n      }\n    },\n    {\n      \"column\": 5,\n      \"properties\": {\n        \"dtype\": \"number\",\n        \"std\": 1.3617729248201045,\n        \"min\": -4.215684279481331,\n        \"max\": 4.186274322621516,\n        \"num_unique_values\": 1000,\n        \"samples\": [\n          -0.07351127760635134,\n          0.9638341002823008,\n          0.23231085816319996\n        ],\n        \"semantic_type\": \"\",\n        \"description\": \"\"\n      }\n    },\n    {\n      \"column\": 6,\n      \"properties\": {\n        \"dtype\": \"number\",\n        \"std\": 0.9887443679629843,\n        \"min\": -2.785750379004893,\n        \"max\": 2.743403686601686,\n        \"num_unique_values\": 1000,\n        \"samples\": [\n          -0.048073001231333505,\n          -0.8631283842215695,\n          1.3951700193627932\n        ],\n        \"semantic_type\": \"\",\n        \"description\": \"\"\n      }\n    },\n    {\n      \"column\": 7,\n      \"properties\": {\n        \"dtype\": \"number\",\n        \"std\": 0.9802213542732996,\n        \"min\": -2.814081598695781,\n        \"max\": 3.529274674709998,\n        \"num_unique_values\": 1000,\n        \"samples\": [\n          -2.4175290979269266,\n          0.328730282639585,\n          0.6372400650916605\n        ],\n        \"semantic_type\": \"\",\n        \"description\": \"\"\n      }\n    },\n    {\n      \"column\": 8,\n      \"properties\": {\n        \"dtype\": \"number\",\n        \"std\": 1.0050651579060579,\n        \"min\": -3.5675804306862626,\n        \"max\": 2.8223629055807957,\n        \"num_unique_values\": 1000,\n        \"samples\": [\n          0.4936955643550297,\n          1.1295454128682958,\n          -0.2085967942023477\n        ],\n        \"semantic_type\": \"\",\n        \"description\": \"\"\n      }\n    },\n    {\n      \"column\": 9,\n      \"properties\": {\n        \"dtype\": \"number\",\n        \"std\": 0.9873029191455238,\n        \"min\": -4.011049238436554,\n        \"max\": 3.5088674034340883,\n        \"num_unique_values\": 1000,\n        \"samples\": [\n          0.14005973352850348,\n          0.09636343870837809,\n          -1.0621725797942532\n        ],\n        \"semantic_type\": \"\",\n        \"description\": \"\"\n      }\n    }\n  ]\n}"
            }
          },
          "metadata": {},
          "execution_count": 22
        }
      ]
    },
    {
      "cell_type": "code",
      "source": [
        "#train test split\n",
        "from sklearn.model_selection import train_test_split\n",
        "X_train,X_test,Y_train,Y_test = train_test_split(X,Y,test_size=0.30,random_state=42)"
      ],
      "metadata": {
        "id": "Pisf2nR37BUo"
      },
      "execution_count": 23,
      "outputs": []
    },
    {
      "cell_type": "code",
      "source": [
        "#model training\n",
        "from sklearn.linear_model import LogisticRegression\n",
        "logistic = LogisticRegression()"
      ],
      "metadata": {
        "id": "9OCYhMEi7tas"
      },
      "execution_count": 24,
      "outputs": []
    },
    {
      "cell_type": "code",
      "source": [
        "logistic.fit(X_train,Y_train)"
      ],
      "metadata": {
        "colab": {
          "base_uri": "https://localhost:8080/",
          "height": 74
        },
        "id": "VMAGVDfy8FEX",
        "outputId": "986c43e6-772e-4952-a306-cc6a3e0f213e"
      },
      "execution_count": 25,
      "outputs": [
        {
          "output_type": "execute_result",
          "data": {
            "text/plain": [
              "LogisticRegression()"
            ],
            "text/html": [
              "<style>#sk-container-id-2 {color: black;}#sk-container-id-2 pre{padding: 0;}#sk-container-id-2 div.sk-toggleable {background-color: white;}#sk-container-id-2 label.sk-toggleable__label {cursor: pointer;display: block;width: 100%;margin-bottom: 0;padding: 0.3em;box-sizing: border-box;text-align: center;}#sk-container-id-2 label.sk-toggleable__label-arrow:before {content: \"▸\";float: left;margin-right: 0.25em;color: #696969;}#sk-container-id-2 label.sk-toggleable__label-arrow:hover:before {color: black;}#sk-container-id-2 div.sk-estimator:hover label.sk-toggleable__label-arrow:before {color: black;}#sk-container-id-2 div.sk-toggleable__content {max-height: 0;max-width: 0;overflow: hidden;text-align: left;background-color: #f0f8ff;}#sk-container-id-2 div.sk-toggleable__content pre {margin: 0.2em;color: black;border-radius: 0.25em;background-color: #f0f8ff;}#sk-container-id-2 input.sk-toggleable__control:checked~div.sk-toggleable__content {max-height: 200px;max-width: 100%;overflow: auto;}#sk-container-id-2 input.sk-toggleable__control:checked~label.sk-toggleable__label-arrow:before {content: \"▾\";}#sk-container-id-2 div.sk-estimator input.sk-toggleable__control:checked~label.sk-toggleable__label {background-color: #d4ebff;}#sk-container-id-2 div.sk-label input.sk-toggleable__control:checked~label.sk-toggleable__label {background-color: #d4ebff;}#sk-container-id-2 input.sk-hidden--visually {border: 0;clip: rect(1px 1px 1px 1px);clip: rect(1px, 1px, 1px, 1px);height: 1px;margin: -1px;overflow: hidden;padding: 0;position: absolute;width: 1px;}#sk-container-id-2 div.sk-estimator {font-family: monospace;background-color: #f0f8ff;border: 1px dotted black;border-radius: 0.25em;box-sizing: border-box;margin-bottom: 0.5em;}#sk-container-id-2 div.sk-estimator:hover {background-color: #d4ebff;}#sk-container-id-2 div.sk-parallel-item::after {content: \"\";width: 100%;border-bottom: 1px solid gray;flex-grow: 1;}#sk-container-id-2 div.sk-label:hover label.sk-toggleable__label {background-color: #d4ebff;}#sk-container-id-2 div.sk-serial::before {content: \"\";position: absolute;border-left: 1px solid gray;box-sizing: border-box;top: 0;bottom: 0;left: 50%;z-index: 0;}#sk-container-id-2 div.sk-serial {display: flex;flex-direction: column;align-items: center;background-color: white;padding-right: 0.2em;padding-left: 0.2em;position: relative;}#sk-container-id-2 div.sk-item {position: relative;z-index: 1;}#sk-container-id-2 div.sk-parallel {display: flex;align-items: stretch;justify-content: center;background-color: white;position: relative;}#sk-container-id-2 div.sk-item::before, #sk-container-id-2 div.sk-parallel-item::before {content: \"\";position: absolute;border-left: 1px solid gray;box-sizing: border-box;top: 0;bottom: 0;left: 50%;z-index: -1;}#sk-container-id-2 div.sk-parallel-item {display: flex;flex-direction: column;z-index: 1;position: relative;background-color: white;}#sk-container-id-2 div.sk-parallel-item:first-child::after {align-self: flex-end;width: 50%;}#sk-container-id-2 div.sk-parallel-item:last-child::after {align-self: flex-start;width: 50%;}#sk-container-id-2 div.sk-parallel-item:only-child::after {width: 0;}#sk-container-id-2 div.sk-dashed-wrapped {border: 1px dashed gray;margin: 0 0.4em 0.5em 0.4em;box-sizing: border-box;padding-bottom: 0.4em;background-color: white;}#sk-container-id-2 div.sk-label label {font-family: monospace;font-weight: bold;display: inline-block;line-height: 1.2em;}#sk-container-id-2 div.sk-label-container {text-align: center;}#sk-container-id-2 div.sk-container {/* jupyter's `normalize.less` sets `[hidden] { display: none; }` but bootstrap.min.css set `[hidden] { display: none !important; }` so we also need the `!important` here to be able to override the default hidden behavior on the sphinx rendered scikit-learn.org. See: https://github.com/scikit-learn/scikit-learn/issues/21755 */display: inline-block !important;position: relative;}#sk-container-id-2 div.sk-text-repr-fallback {display: none;}</style><div id=\"sk-container-id-2\" class=\"sk-top-container\"><div class=\"sk-text-repr-fallback\"><pre>LogisticRegression()</pre><b>In a Jupyter environment, please rerun this cell to show the HTML representation or trust the notebook. <br />On GitHub, the HTML representation is unable to render, please try loading this page with nbviewer.org.</b></div><div class=\"sk-container\" hidden><div class=\"sk-item\"><div class=\"sk-estimator sk-toggleable\"><input class=\"sk-toggleable__control sk-hidden--visually\" id=\"sk-estimator-id-2\" type=\"checkbox\" checked><label for=\"sk-estimator-id-2\" class=\"sk-toggleable__label sk-toggleable__label-arrow\">LogisticRegression</label><div class=\"sk-toggleable__content\"><pre>LogisticRegression()</pre></div></div></div></div></div>"
            ]
          },
          "metadata": {},
          "execution_count": 25
        }
      ]
    },
    {
      "cell_type": "code",
      "source": [
        "#prediction\n",
        "y_pred = logistic.predict(X_test)\n",
        "print(y_pred)"
      ],
      "metadata": {
        "colab": {
          "base_uri": "https://localhost:8080/"
        },
        "id": "n5qIclsN8LK_",
        "outputId": "80233767-4fe1-4244-f7a4-39a3c657bd27"
      },
      "execution_count": 26,
      "outputs": [
        {
          "output_type": "stream",
          "name": "stdout",
          "text": [
            "[0 1 1 1 1 1 1 0 1 0 0 0 1 0 0 0 1 1 0 0 1 1 1 0 1 1 1 1 1 0 0 0 1 1 1 1 1\n",
            " 0 1 0 1 1 1 0 0 0 0 1 0 0 1 0 1 1 1 0 0 0 0 0 1 0 0 0 0 1 0 1 1 1 0 1 0 0\n",
            " 0 1 1 0 0 0 0 1 1 1 0 0 1 0 0 1 0 0 1 1 1 0 0 1 0 1 1 0 0 1 1 0 0 0 0 1 0\n",
            " 0 0 1 0 1 1 0 1 0 1 0 0 0 1 0 0 0 1 1 1 1 1 0 1 0 0 0 1 1 0 1 1 1 1 0 1 0\n",
            " 0 1 1 0 0 0 1 0 1 0 1 0 1 1 0 1 1 0 1 0 1 1 1 0 0 0 0 0 1 1 1 1 1 0 0 0 0\n",
            " 1 0 0 0 0 0 1 0 0 1 1 1 1 1 1 0 0 0 0 1 0 1 0 0 1 0 0 0 0 1 1 0 1 1 0 0 0\n",
            " 0 0 1 0 0 1 1 0 0 1 1 1 1 1 1 1 0 0 1 1 1 0 1 1 1 0 1 0 1 1 0 0 0 0 0 0 0\n",
            " 0 0 1 1 1 1 0 0 0 1 1 0 1 1 1 1 1 0 1 0 1 1 0 1 1 0 0 1 0 1 1 0 0 0 0 1 1\n",
            " 0 1 0 0]\n"
          ]
        }
      ]
    },
    {
      "cell_type": "code",
      "source": [
        "#probability - if you want to see the probability of output feature which falls under which category\n",
        "logistic.predict_proba(X_test)"
      ],
      "metadata": {
        "colab": {
          "base_uri": "https://localhost:8080/"
        },
        "id": "h0SI_7XE8VgQ",
        "outputId": "fde2a320-b07f-4b1b-b8ee-362cbc4dcef5"
      },
      "execution_count": 27,
      "outputs": [
        {
          "output_type": "execute_result",
          "data": {
            "text/plain": [
              "array([[8.41902772e-01, 1.58097228e-01],\n",
              "       [1.75443509e-02, 9.82455649e-01],\n",
              "       [9.90791245e-02, 9.00920876e-01],\n",
              "       [8.89828277e-02, 9.11017172e-01],\n",
              "       [6.68803717e-03, 9.93311963e-01],\n",
              "       [2.49810708e-04, 9.99750189e-01],\n",
              "       [3.25445928e-04, 9.99674554e-01],\n",
              "       [6.18648838e-01, 3.81351162e-01],\n",
              "       [2.62192897e-01, 7.37807103e-01],\n",
              "       [9.99688136e-01, 3.11864030e-04],\n",
              "       [9.52840380e-01, 4.71596199e-02],\n",
              "       [9.42730393e-01, 5.72696070e-02],\n",
              "       [5.35561749e-02, 9.46443825e-01],\n",
              "       [9.78781231e-01, 2.12187694e-02],\n",
              "       [7.41511576e-01, 2.58488424e-01],\n",
              "       [9.85999138e-01, 1.40008621e-02],\n",
              "       [2.20765491e-01, 7.79234509e-01],\n",
              "       [1.26552492e-01, 8.73447508e-01],\n",
              "       [9.93891242e-01, 6.10875774e-03],\n",
              "       [9.54404040e-01, 4.55959597e-02],\n",
              "       [1.87819913e-01, 8.12180087e-01],\n",
              "       [3.75653527e-01, 6.24346473e-01],\n",
              "       [3.85917154e-02, 9.61408285e-01],\n",
              "       [5.15279305e-01, 4.84720695e-01],\n",
              "       [4.63290744e-03, 9.95367093e-01],\n",
              "       [2.00905791e-01, 7.99094209e-01],\n",
              "       [2.94867259e-03, 9.97051327e-01],\n",
              "       [4.23800359e-01, 5.76199641e-01],\n",
              "       [3.52931152e-02, 9.64706885e-01],\n",
              "       [9.59009531e-01, 4.09904693e-02],\n",
              "       [6.39594220e-01, 3.60405780e-01],\n",
              "       [9.82097732e-01, 1.79022685e-02],\n",
              "       [3.41736913e-01, 6.58263087e-01],\n",
              "       [1.94694871e-04, 9.99805305e-01],\n",
              "       [2.21143867e-02, 9.77885613e-01],\n",
              "       [3.29361871e-02, 9.67063813e-01],\n",
              "       [1.36992292e-02, 9.86300771e-01],\n",
              "       [7.96043246e-01, 2.03956754e-01],\n",
              "       [2.88970753e-01, 7.11029247e-01],\n",
              "       [8.45749037e-01, 1.54250963e-01],\n",
              "       [6.69351508e-02, 9.33064849e-01],\n",
              "       [1.63194620e-01, 8.36805380e-01],\n",
              "       [3.78555853e-02, 9.62144415e-01],\n",
              "       [9.28170219e-01, 7.18297806e-02],\n",
              "       [6.72076051e-01, 3.27923949e-01],\n",
              "       [9.56524728e-01, 4.34752715e-02],\n",
              "       [6.64363538e-01, 3.35636462e-01],\n",
              "       [1.12672196e-01, 8.87327804e-01],\n",
              "       [6.65350996e-01, 3.34649004e-01],\n",
              "       [6.16830480e-01, 3.83169520e-01],\n",
              "       [2.23026129e-03, 9.97769739e-01],\n",
              "       [8.26158325e-01, 1.73841675e-01],\n",
              "       [7.55678903e-03, 9.92443211e-01],\n",
              "       [9.07621262e-02, 9.09237874e-01],\n",
              "       [2.18193724e-02, 9.78180628e-01],\n",
              "       [9.62599657e-01, 3.74003433e-02],\n",
              "       [9.07589701e-01, 9.24102986e-02],\n",
              "       [9.89302968e-01, 1.06970322e-02],\n",
              "       [7.23466419e-01, 2.76533581e-01],\n",
              "       [7.95770068e-01, 2.04229932e-01],\n",
              "       [3.02332472e-01, 6.97667528e-01],\n",
              "       [9.98564519e-01, 1.43548055e-03],\n",
              "       [7.67910383e-01, 2.32089617e-01],\n",
              "       [8.37577119e-01, 1.62422881e-01],\n",
              "       [9.99185124e-01, 8.14875617e-04],\n",
              "       [1.89967637e-04, 9.99810032e-01],\n",
              "       [9.70490303e-01, 2.95096968e-02],\n",
              "       [1.04588458e-03, 9.98954115e-01],\n",
              "       [1.22711684e-02, 9.87728832e-01],\n",
              "       [1.67488228e-01, 8.32511772e-01],\n",
              "       [8.95591398e-01, 1.04408602e-01],\n",
              "       [1.05034968e-01, 8.94965032e-01],\n",
              "       [9.21440889e-01, 7.85591114e-02],\n",
              "       [9.96772437e-01, 3.22756261e-03],\n",
              "       [9.05381938e-01, 9.46180616e-02],\n",
              "       [7.12287130e-02, 9.28771287e-01],\n",
              "       [1.30698112e-01, 8.69301888e-01],\n",
              "       [5.42354677e-01, 4.57645323e-01],\n",
              "       [9.76935028e-01, 2.30649722e-02],\n",
              "       [9.91081741e-01, 8.91825926e-03],\n",
              "       [5.81648567e-01, 4.18351433e-01],\n",
              "       [1.15030207e-02, 9.88496979e-01],\n",
              "       [1.09409633e-03, 9.98905904e-01],\n",
              "       [4.76795056e-01, 5.23204944e-01],\n",
              "       [9.93461082e-01, 6.53891843e-03],\n",
              "       [8.10620603e-01, 1.89379397e-01],\n",
              "       [2.18951864e-02, 9.78104814e-01],\n",
              "       [6.00448793e-01, 3.99551207e-01],\n",
              "       [9.47552283e-01, 5.24477167e-02],\n",
              "       [3.50304350e-03, 9.96496956e-01],\n",
              "       [9.97901157e-01, 2.09884275e-03],\n",
              "       [9.95601776e-01, 4.39822384e-03],\n",
              "       [5.51998735e-02, 9.44800126e-01],\n",
              "       [2.90794366e-01, 7.09205634e-01],\n",
              "       [1.01994799e-02, 9.89800520e-01],\n",
              "       [9.97622241e-01, 2.37775881e-03],\n",
              "       [9.94977181e-01, 5.02281880e-03],\n",
              "       [7.18239986e-04, 9.99281760e-01],\n",
              "       [9.13580749e-01, 8.64192512e-02],\n",
              "       [1.21288211e-01, 8.78711789e-01],\n",
              "       [4.43849478e-01, 5.56150522e-01],\n",
              "       [8.85748162e-01, 1.14251838e-01],\n",
              "       [8.04598879e-01, 1.95401121e-01],\n",
              "       [1.43171314e-04, 9.99856829e-01],\n",
              "       [1.24137591e-01, 8.75862409e-01],\n",
              "       [8.16711650e-01, 1.83288350e-01],\n",
              "       [9.96713327e-01, 3.28667306e-03],\n",
              "       [8.47889130e-01, 1.52110870e-01],\n",
              "       [5.14013570e-01, 4.85986430e-01],\n",
              "       [2.75301910e-02, 9.72469809e-01],\n",
              "       [9.82227506e-01, 1.77724936e-02],\n",
              "       [9.56287111e-01, 4.37128887e-02],\n",
              "       [9.99869711e-01, 1.30288547e-04],\n",
              "       [4.81538715e-01, 5.18461285e-01],\n",
              "       [8.03305376e-01, 1.96694624e-01],\n",
              "       [1.09061810e-01, 8.90938190e-01],\n",
              "       [3.38084606e-03, 9.96619154e-01],\n",
              "       [9.40726653e-01, 5.92733473e-02],\n",
              "       [5.70814755e-03, 9.94291852e-01],\n",
              "       [9.99989096e-01, 1.09035978e-05],\n",
              "       [3.87251314e-03, 9.96127487e-01],\n",
              "       [9.62378100e-01, 3.76219002e-02],\n",
              "       [9.46910574e-01, 5.30894261e-02],\n",
              "       [9.10472178e-01, 8.95278218e-02],\n",
              "       [7.01707035e-02, 9.29829296e-01],\n",
              "       [8.83670863e-01, 1.16329137e-01],\n",
              "       [6.37950688e-01, 3.62049312e-01],\n",
              "       [5.19479865e-01, 4.80520135e-01],\n",
              "       [1.52404528e-01, 8.47595472e-01],\n",
              "       [1.28481904e-01, 8.71518096e-01],\n",
              "       [1.37673086e-02, 9.86232691e-01],\n",
              "       [1.77297513e-01, 8.22702487e-01],\n",
              "       [6.08909123e-02, 9.39109088e-01],\n",
              "       [7.74532275e-01, 2.25467725e-01],\n",
              "       [4.82360650e-02, 9.51763935e-01],\n",
              "       [7.20210010e-01, 2.79789990e-01],\n",
              "       [8.51247031e-01, 1.48752969e-01],\n",
              "       [6.10344627e-01, 3.89655373e-01],\n",
              "       [3.54985905e-03, 9.96450141e-01],\n",
              "       [1.57304504e-01, 8.42695496e-01],\n",
              "       [7.44516660e-01, 2.55483340e-01],\n",
              "       [1.39228174e-04, 9.99860772e-01],\n",
              "       [8.16188073e-04, 9.99183812e-01],\n",
              "       [4.48248746e-03, 9.95517513e-01],\n",
              "       [2.50385504e-04, 9.99749614e-01],\n",
              "       [9.81546516e-01, 1.84534842e-02],\n",
              "       [1.16682779e-01, 8.83317221e-01],\n",
              "       [9.98631374e-01, 1.36862627e-03],\n",
              "       [9.75672091e-01, 2.43279091e-02],\n",
              "       [1.31040600e-01, 8.68959400e-01],\n",
              "       [1.16652374e-01, 8.83347626e-01],\n",
              "       [7.22559391e-01, 2.77440609e-01],\n",
              "       [8.78794223e-01, 1.21205777e-01],\n",
              "       [9.13500127e-01, 8.64998728e-02],\n",
              "       [1.09620987e-01, 8.90379013e-01],\n",
              "       [9.98717786e-01, 1.28221441e-03],\n",
              "       [1.61625778e-01, 8.38374222e-01],\n",
              "       [9.70144287e-01, 2.98557134e-02],\n",
              "       [4.46715032e-01, 5.53284968e-01],\n",
              "       [9.66066052e-01, 3.39339482e-02],\n",
              "       [8.73193999e-02, 9.12680600e-01],\n",
              "       [7.84247616e-03, 9.92157524e-01],\n",
              "       [9.30719499e-01, 6.92805009e-02],\n",
              "       [1.72416763e-02, 9.82758324e-01],\n",
              "       [9.73657726e-04, 9.99026342e-01],\n",
              "       [8.58174879e-01, 1.41825121e-01],\n",
              "       [3.14214257e-03, 9.96857857e-01],\n",
              "       [8.76482929e-01, 1.23517071e-01],\n",
              "       [4.15201827e-02, 9.58479817e-01],\n",
              "       [1.52491599e-01, 8.47508401e-01],\n",
              "       [4.91502104e-01, 5.08497896e-01],\n",
              "       [6.14770990e-01, 3.85229010e-01],\n",
              "       [9.37892060e-01, 6.21079402e-02],\n",
              "       [9.47513985e-01, 5.24860151e-02],\n",
              "       [8.92083152e-01, 1.07916848e-01],\n",
              "       [9.85403206e-01, 1.45967938e-02],\n",
              "       [1.86004427e-03, 9.98139956e-01],\n",
              "       [1.20055266e-01, 8.79944734e-01],\n",
              "       [3.11805140e-01, 6.88194860e-01],\n",
              "       [2.06881286e-02, 9.79311871e-01],\n",
              "       [2.04815931e-02, 9.79518407e-01],\n",
              "       [9.35817328e-01, 6.41826718e-02],\n",
              "       [9.33716268e-01, 6.62837322e-02],\n",
              "       [9.99299830e-01, 7.00170047e-04],\n",
              "       [9.97734965e-01, 2.26503521e-03],\n",
              "       [5.39571000e-03, 9.94604290e-01],\n",
              "       [9.82174198e-01, 1.78258024e-02],\n",
              "       [9.38346991e-01, 6.16530095e-02],\n",
              "       [8.46686716e-01, 1.53313284e-01],\n",
              "       [9.99345864e-01, 6.54136108e-04],\n",
              "       [9.36763950e-01, 6.32360503e-02],\n",
              "       [2.33654256e-02, 9.76634574e-01],\n",
              "       [7.46176539e-01, 2.53823461e-01],\n",
              "       [8.15884522e-01, 1.84115478e-01],\n",
              "       [1.87241718e-02, 9.81275828e-01],\n",
              "       [4.07538741e-02, 9.59246126e-01],\n",
              "       [4.42378327e-01, 5.57621673e-01],\n",
              "       [4.15619572e-01, 5.84380428e-01],\n",
              "       [1.26768811e-01, 8.73231189e-01],\n",
              "       [3.75667754e-01, 6.24332246e-01],\n",
              "       [7.41406760e-01, 2.58593240e-01],\n",
              "       [7.26806323e-01, 2.73193677e-01],\n",
              "       [9.12747067e-01, 8.72529334e-02],\n",
              "       [5.38156707e-01, 4.61843293e-01],\n",
              "       [4.13786812e-01, 5.86213188e-01],\n",
              "       [9.99492703e-01, 5.07296754e-04],\n",
              "       [2.22488210e-02, 9.77751179e-01],\n",
              "       [5.67375486e-01, 4.32624514e-01],\n",
              "       [9.81409639e-01, 1.85903614e-02],\n",
              "       [2.45711999e-02, 9.75428800e-01],\n",
              "       [6.59408246e-01, 3.40591754e-01],\n",
              "       [9.83616643e-01, 1.63833568e-02],\n",
              "       [9.77487895e-01, 2.25121047e-02],\n",
              "       [7.12386261e-01, 2.87613739e-01],\n",
              "       [1.93669316e-02, 9.80633068e-01],\n",
              "       [4.71822967e-01, 5.28177033e-01],\n",
              "       [9.90996037e-01, 9.00396316e-03],\n",
              "       [1.29932752e-02, 9.87006725e-01],\n",
              "       [3.57186198e-02, 9.64281380e-01],\n",
              "       [9.92835885e-01, 7.16411519e-03],\n",
              "       [9.75783833e-01, 2.42161673e-02],\n",
              "       [9.15411482e-01, 8.45885185e-02],\n",
              "       [9.89406270e-01, 1.05937300e-02],\n",
              "       [5.63082646e-01, 4.36917354e-01],\n",
              "       [1.83582543e-01, 8.16417457e-01],\n",
              "       [9.90530811e-01, 9.46918872e-03],\n",
              "       [5.96619334e-01, 4.03380666e-01],\n",
              "       [3.21435030e-03, 9.96785650e-01],\n",
              "       [1.41572373e-03, 9.98584276e-01],\n",
              "       [5.97794731e-01, 4.02205269e-01],\n",
              "       [8.41853640e-01, 1.58146360e-01],\n",
              "       [1.10989708e-01, 8.89010292e-01],\n",
              "       [2.46947710e-04, 9.99753052e-01],\n",
              "       [5.02191919e-02, 9.49780808e-01],\n",
              "       [4.79449774e-01, 5.20550226e-01],\n",
              "       [1.30264826e-02, 9.86973517e-01],\n",
              "       [3.51937457e-01, 6.48062543e-01],\n",
              "       [3.94285924e-01, 6.05714076e-01],\n",
              "       [9.64451195e-01, 3.55488049e-02],\n",
              "       [5.96905286e-01, 4.03094714e-01],\n",
              "       [2.43916010e-03, 9.97560840e-01],\n",
              "       [2.77256452e-05, 9.99972274e-01],\n",
              "       [2.54380690e-01, 7.45619310e-01],\n",
              "       [9.42908199e-01, 5.70918007e-02],\n",
              "       [2.43075077e-02, 9.75692492e-01],\n",
              "       [1.42093515e-01, 8.57906485e-01],\n",
              "       [5.67465616e-03, 9.94325344e-01],\n",
              "       [7.72664961e-01, 2.27335039e-01],\n",
              "       [5.63843425e-02, 9.43615657e-01],\n",
              "       [9.46563555e-01, 5.34364449e-02],\n",
              "       [7.01485091e-03, 9.92985149e-01],\n",
              "       [2.00800897e-01, 7.99199103e-01],\n",
              "       [9.18955577e-01, 8.10444230e-02],\n",
              "       [9.97770848e-01, 2.22915166e-03],\n",
              "       [7.24333586e-01, 2.75666414e-01],\n",
              "       [8.08049249e-01, 1.91950751e-01],\n",
              "       [7.42356958e-01, 2.57643042e-01],\n",
              "       [5.89241971e-01, 4.10758029e-01],\n",
              "       [9.68254385e-01, 3.17456152e-02],\n",
              "       [9.38855021e-01, 6.11449788e-02],\n",
              "       [7.29245820e-01, 2.70754180e-01],\n",
              "       [6.79322206e-02, 9.32067779e-01],\n",
              "       [3.97275260e-02, 9.60272474e-01],\n",
              "       [1.91616996e-02, 9.80838300e-01],\n",
              "       [3.21500945e-01, 6.78499055e-01],\n",
              "       [8.63388382e-01, 1.36611618e-01],\n",
              "       [9.97277583e-01, 2.72241742e-03],\n",
              "       [9.98701795e-01, 1.29820468e-03],\n",
              "       [3.55254614e-01, 6.44745386e-01],\n",
              "       [4.02997693e-02, 9.59700231e-01],\n",
              "       [9.88209474e-01, 1.17905259e-02],\n",
              "       [1.98310815e-01, 8.01689185e-01],\n",
              "       [4.84022422e-01, 5.15977578e-01],\n",
              "       [2.13684286e-01, 7.86315714e-01],\n",
              "       [3.05952542e-02, 9.69404746e-01],\n",
              "       [4.62427376e-03, 9.95375726e-01],\n",
              "       [9.85680102e-01, 1.43198984e-02],\n",
              "       [2.62875399e-02, 9.73712460e-01],\n",
              "       [7.68369941e-01, 2.31630059e-01],\n",
              "       [1.88273619e-01, 8.11726381e-01],\n",
              "       [3.50577883e-03, 9.96494221e-01],\n",
              "       [9.01100876e-01, 9.88991235e-02],\n",
              "       [4.25038589e-01, 5.74961411e-01],\n",
              "       [3.33953213e-03, 9.96660468e-01],\n",
              "       [9.87294287e-01, 1.27057131e-02],\n",
              "       [7.40122886e-01, 2.59877114e-01],\n",
              "       [2.16911169e-03, 9.97830888e-01],\n",
              "       [9.77695651e-01, 2.23043488e-02],\n",
              "       [7.83076260e-02, 9.21692374e-01],\n",
              "       [1.67367119e-01, 8.32632881e-01],\n",
              "       [9.47419459e-01, 5.25805407e-02],\n",
              "       [9.68969803e-01, 3.10301968e-02],\n",
              "       [9.92718196e-01, 7.28180443e-03],\n",
              "       [9.91107627e-01, 8.89237310e-03],\n",
              "       [4.92628160e-01, 5.07371840e-01],\n",
              "       [2.92350639e-01, 7.07649361e-01],\n",
              "       [7.89802461e-01, 2.10197539e-01],\n",
              "       [1.76670230e-03, 9.98233298e-01],\n",
              "       [9.00847013e-01, 9.91529874e-02],\n",
              "       [5.67143682e-01, 4.32856318e-01]])"
            ]
          },
          "metadata": {},
          "execution_count": 27
        }
      ]
    },
    {
      "cell_type": "code",
      "source": [
        "#Performance metrics\n",
        "from sklearn.metrics import accuracy_score,confusion_matrix,classification_report"
      ],
      "metadata": {
        "id": "0h6Mg7uC8rCC"
      },
      "execution_count": 28,
      "outputs": []
    },
    {
      "cell_type": "code",
      "source": [
        "score = accuracy_score(Y_test,y_pred)\n",
        "print(score)\n"
      ],
      "metadata": {
        "colab": {
          "base_uri": "https://localhost:8080/"
        },
        "id": "nj9fxyAX9QBJ",
        "outputId": "50de31dc-68b5-4b61-d654-b799daed5215"
      },
      "execution_count": 29,
      "outputs": [
        {
          "output_type": "stream",
          "name": "stdout",
          "text": [
            "0.8766666666666667\n"
          ]
        }
      ]
    },
    {
      "cell_type": "code",
      "source": [
        "cm = confusion_matrix(Y_test,y_pred)\n",
        "print(cm)"
      ],
      "metadata": {
        "colab": {
          "base_uri": "https://localhost:8080/"
        },
        "id": "xEXPu8nf9Y4I",
        "outputId": "3702027f-feee-4df8-964b-fef767e0f0b6"
      },
      "execution_count": 30,
      "outputs": [
        {
          "output_type": "stream",
          "name": "stdout",
          "text": [
            "[[136  20]\n",
            " [ 17 127]]\n"
          ]
        }
      ]
    },
    {
      "cell_type": "code",
      "source": [
        "print(classification_report(Y_test,y_pred))"
      ],
      "metadata": {
        "colab": {
          "base_uri": "https://localhost:8080/"
        },
        "id": "wsn-tvvm9lmk",
        "outputId": "6e22768b-d603-4e52-96e9-d08db08ea40f"
      },
      "execution_count": 31,
      "outputs": [
        {
          "output_type": "stream",
          "name": "stdout",
          "text": [
            "              precision    recall  f1-score   support\n",
            "\n",
            "           0       0.89      0.87      0.88       156\n",
            "           1       0.86      0.88      0.87       144\n",
            "\n",
            "    accuracy                           0.88       300\n",
            "   macro avg       0.88      0.88      0.88       300\n",
            "weighted avg       0.88      0.88      0.88       300\n",
            "\n"
          ]
        }
      ]
    },
    {
      "cell_type": "code",
      "source": [
        "#Hyper_Parameter_Tunningg\n",
        "#Cross_Validation - Grid search cv and randomized search cv\n",
        "\n",
        "model = LogisticRegression()\n",
        "#penalty = ['l1','l2','elasticnet'] #out of all params which is the best one to choose\n",
        "penalty = ['l2','none',]\n",
        "c_values = [100,10,1.0,0.1,0.01]\n",
        "solver = ['newton-cg','lbfgs','sag','saga']\n",
        "#solver = ['newton-cg']\n",
        "\n",
        "#model = LogisticRegression(C=0.01, penalty='l1',solver='liblinear');"
      ],
      "metadata": {
        "id": "AzLhuJ-w9wcb"
      },
      "execution_count": 78,
      "outputs": []
    },
    {
      "cell_type": "code",
      "source": [
        "#arrange or make it as a key value pair\n",
        "params=dict(penalty=penalty,C=c_values,solver=solver)\n",
        "params"
      ],
      "metadata": {
        "colab": {
          "base_uri": "https://localhost:8080/"
        },
        "id": "fN7xTzpVBl7J",
        "outputId": "f081d3a2-19c9-4b20-8b0c-490529f103fc"
      },
      "execution_count": 79,
      "outputs": [
        {
          "output_type": "execute_result",
          "data": {
            "text/plain": [
              "{'penalty': ['l2', 'none'],\n",
              " 'C': [100, 10, 1.0, 0.1, 0.01],\n",
              " 'solver': ['newton-cg', 'lbfgs', 'sag', 'saga']}"
            ]
          },
          "metadata": {},
          "execution_count": 79
        }
      ]
    },
    {
      "cell_type": "code",
      "source": [
        "#Hyperparameter tunning - GridSearchCV\n",
        "from sklearn.model_selection import GridSearchCV\n",
        "from sklearn.model_selection import StratifiedKFold\n",
        "cv = StratifiedKFold()\n",
        "grid1 = GridSearchCV(estimator=model,\n",
        "                    param_grid=params,\n",
        "                    scoring='accuracy',\n",
        "                    cv=cv,\n",
        "                    n_jobs=-1)"
      ],
      "metadata": {
        "id": "8UnOrwpYB3aE"
      },
      "execution_count": 80,
      "outputs": []
    },
    {
      "cell_type": "code",
      "source": [
        "grid1"
      ],
      "metadata": {
        "colab": {
          "base_uri": "https://localhost:8080/",
          "height": 117
        },
        "id": "1BwbwTPaDINo",
        "outputId": "ac80bfb3-bee3-46e6-ab01-50e22f46cf95"
      },
      "execution_count": 81,
      "outputs": [
        {
          "output_type": "execute_result",
          "data": {
            "text/plain": [
              "GridSearchCV(cv=StratifiedKFold(n_splits=5, random_state=None, shuffle=False),\n",
              "             estimator=LogisticRegression(), n_jobs=-1,\n",
              "             param_grid={'C': [100, 10, 1.0, 0.1, 0.01],\n",
              "                         'penalty': ['l2', 'none'],\n",
              "                         'solver': ['newton-cg', 'lbfgs', 'sag', 'saga']},\n",
              "             scoring='accuracy')"
            ],
            "text/html": [
              "<style>#sk-container-id-18 {color: black;}#sk-container-id-18 pre{padding: 0;}#sk-container-id-18 div.sk-toggleable {background-color: white;}#sk-container-id-18 label.sk-toggleable__label {cursor: pointer;display: block;width: 100%;margin-bottom: 0;padding: 0.3em;box-sizing: border-box;text-align: center;}#sk-container-id-18 label.sk-toggleable__label-arrow:before {content: \"▸\";float: left;margin-right: 0.25em;color: #696969;}#sk-container-id-18 label.sk-toggleable__label-arrow:hover:before {color: black;}#sk-container-id-18 div.sk-estimator:hover label.sk-toggleable__label-arrow:before {color: black;}#sk-container-id-18 div.sk-toggleable__content {max-height: 0;max-width: 0;overflow: hidden;text-align: left;background-color: #f0f8ff;}#sk-container-id-18 div.sk-toggleable__content pre {margin: 0.2em;color: black;border-radius: 0.25em;background-color: #f0f8ff;}#sk-container-id-18 input.sk-toggleable__control:checked~div.sk-toggleable__content {max-height: 200px;max-width: 100%;overflow: auto;}#sk-container-id-18 input.sk-toggleable__control:checked~label.sk-toggleable__label-arrow:before {content: \"▾\";}#sk-container-id-18 div.sk-estimator input.sk-toggleable__control:checked~label.sk-toggleable__label {background-color: #d4ebff;}#sk-container-id-18 div.sk-label input.sk-toggleable__control:checked~label.sk-toggleable__label {background-color: #d4ebff;}#sk-container-id-18 input.sk-hidden--visually {border: 0;clip: rect(1px 1px 1px 1px);clip: rect(1px, 1px, 1px, 1px);height: 1px;margin: -1px;overflow: hidden;padding: 0;position: absolute;width: 1px;}#sk-container-id-18 div.sk-estimator {font-family: monospace;background-color: #f0f8ff;border: 1px dotted black;border-radius: 0.25em;box-sizing: border-box;margin-bottom: 0.5em;}#sk-container-id-18 div.sk-estimator:hover {background-color: #d4ebff;}#sk-container-id-18 div.sk-parallel-item::after {content: \"\";width: 100%;border-bottom: 1px solid gray;flex-grow: 1;}#sk-container-id-18 div.sk-label:hover label.sk-toggleable__label {background-color: #d4ebff;}#sk-container-id-18 div.sk-serial::before {content: \"\";position: absolute;border-left: 1px solid gray;box-sizing: border-box;top: 0;bottom: 0;left: 50%;z-index: 0;}#sk-container-id-18 div.sk-serial {display: flex;flex-direction: column;align-items: center;background-color: white;padding-right: 0.2em;padding-left: 0.2em;position: relative;}#sk-container-id-18 div.sk-item {position: relative;z-index: 1;}#sk-container-id-18 div.sk-parallel {display: flex;align-items: stretch;justify-content: center;background-color: white;position: relative;}#sk-container-id-18 div.sk-item::before, #sk-container-id-18 div.sk-parallel-item::before {content: \"\";position: absolute;border-left: 1px solid gray;box-sizing: border-box;top: 0;bottom: 0;left: 50%;z-index: -1;}#sk-container-id-18 div.sk-parallel-item {display: flex;flex-direction: column;z-index: 1;position: relative;background-color: white;}#sk-container-id-18 div.sk-parallel-item:first-child::after {align-self: flex-end;width: 50%;}#sk-container-id-18 div.sk-parallel-item:last-child::after {align-self: flex-start;width: 50%;}#sk-container-id-18 div.sk-parallel-item:only-child::after {width: 0;}#sk-container-id-18 div.sk-dashed-wrapped {border: 1px dashed gray;margin: 0 0.4em 0.5em 0.4em;box-sizing: border-box;padding-bottom: 0.4em;background-color: white;}#sk-container-id-18 div.sk-label label {font-family: monospace;font-weight: bold;display: inline-block;line-height: 1.2em;}#sk-container-id-18 div.sk-label-container {text-align: center;}#sk-container-id-18 div.sk-container {/* jupyter's `normalize.less` sets `[hidden] { display: none; }` but bootstrap.min.css set `[hidden] { display: none !important; }` so we also need the `!important` here to be able to override the default hidden behavior on the sphinx rendered scikit-learn.org. See: https://github.com/scikit-learn/scikit-learn/issues/21755 */display: inline-block !important;position: relative;}#sk-container-id-18 div.sk-text-repr-fallback {display: none;}</style><div id=\"sk-container-id-18\" class=\"sk-top-container\"><div class=\"sk-text-repr-fallback\"><pre>GridSearchCV(cv=StratifiedKFold(n_splits=5, random_state=None, shuffle=False),\n",
              "             estimator=LogisticRegression(), n_jobs=-1,\n",
              "             param_grid={&#x27;C&#x27;: [100, 10, 1.0, 0.1, 0.01],\n",
              "                         &#x27;penalty&#x27;: [&#x27;l2&#x27;, &#x27;none&#x27;],\n",
              "                         &#x27;solver&#x27;: [&#x27;newton-cg&#x27;, &#x27;lbfgs&#x27;, &#x27;sag&#x27;, &#x27;saga&#x27;]},\n",
              "             scoring=&#x27;accuracy&#x27;)</pre><b>In a Jupyter environment, please rerun this cell to show the HTML representation or trust the notebook. <br />On GitHub, the HTML representation is unable to render, please try loading this page with nbviewer.org.</b></div><div class=\"sk-container\" hidden><div class=\"sk-item sk-dashed-wrapped\"><div class=\"sk-label-container\"><div class=\"sk-label sk-toggleable\"><input class=\"sk-toggleable__control sk-hidden--visually\" id=\"sk-estimator-id-48\" type=\"checkbox\" ><label for=\"sk-estimator-id-48\" class=\"sk-toggleable__label sk-toggleable__label-arrow\">GridSearchCV</label><div class=\"sk-toggleable__content\"><pre>GridSearchCV(cv=StratifiedKFold(n_splits=5, random_state=None, shuffle=False),\n",
              "             estimator=LogisticRegression(), n_jobs=-1,\n",
              "             param_grid={&#x27;C&#x27;: [100, 10, 1.0, 0.1, 0.01],\n",
              "                         &#x27;penalty&#x27;: [&#x27;l2&#x27;, &#x27;none&#x27;],\n",
              "                         &#x27;solver&#x27;: [&#x27;newton-cg&#x27;, &#x27;lbfgs&#x27;, &#x27;sag&#x27;, &#x27;saga&#x27;]},\n",
              "             scoring=&#x27;accuracy&#x27;)</pre></div></div></div><div class=\"sk-parallel\"><div class=\"sk-parallel-item\"><div class=\"sk-item\"><div class=\"sk-label-container\"><div class=\"sk-label sk-toggleable\"><input class=\"sk-toggleable__control sk-hidden--visually\" id=\"sk-estimator-id-49\" type=\"checkbox\" ><label for=\"sk-estimator-id-49\" class=\"sk-toggleable__label sk-toggleable__label-arrow\">estimator: LogisticRegression</label><div class=\"sk-toggleable__content\"><pre>LogisticRegression()</pre></div></div></div><div class=\"sk-serial\"><div class=\"sk-item\"><div class=\"sk-estimator sk-toggleable\"><input class=\"sk-toggleable__control sk-hidden--visually\" id=\"sk-estimator-id-50\" type=\"checkbox\" ><label for=\"sk-estimator-id-50\" class=\"sk-toggleable__label sk-toggleable__label-arrow\">LogisticRegression</label><div class=\"sk-toggleable__content\"><pre>LogisticRegression()</pre></div></div></div></div></div></div></div></div></div></div>"
            ]
          },
          "metadata": {},
          "execution_count": 81
        }
      ]
    },
    {
      "cell_type": "code",
      "source": [
        "#fit with our train data\n",
        "grid1.fit(X_train,Y_train)"
      ],
      "metadata": {
        "colab": {
          "base_uri": "https://localhost:8080/",
          "height": 117
        },
        "id": "KSuW8xPqDKVW",
        "outputId": "89384596-8694-43ac-b2bc-205f8c1fedc2"
      },
      "execution_count": 82,
      "outputs": [
        {
          "output_type": "execute_result",
          "data": {
            "text/plain": [
              "GridSearchCV(cv=StratifiedKFold(n_splits=5, random_state=None, shuffle=False),\n",
              "             estimator=LogisticRegression(), n_jobs=-1,\n",
              "             param_grid={'C': [100, 10, 1.0, 0.1, 0.01],\n",
              "                         'penalty': ['l2', 'none'],\n",
              "                         'solver': ['newton-cg', 'lbfgs', 'sag', 'saga']},\n",
              "             scoring='accuracy')"
            ],
            "text/html": [
              "<style>#sk-container-id-19 {color: black;}#sk-container-id-19 pre{padding: 0;}#sk-container-id-19 div.sk-toggleable {background-color: white;}#sk-container-id-19 label.sk-toggleable__label {cursor: pointer;display: block;width: 100%;margin-bottom: 0;padding: 0.3em;box-sizing: border-box;text-align: center;}#sk-container-id-19 label.sk-toggleable__label-arrow:before {content: \"▸\";float: left;margin-right: 0.25em;color: #696969;}#sk-container-id-19 label.sk-toggleable__label-arrow:hover:before {color: black;}#sk-container-id-19 div.sk-estimator:hover label.sk-toggleable__label-arrow:before {color: black;}#sk-container-id-19 div.sk-toggleable__content {max-height: 0;max-width: 0;overflow: hidden;text-align: left;background-color: #f0f8ff;}#sk-container-id-19 div.sk-toggleable__content pre {margin: 0.2em;color: black;border-radius: 0.25em;background-color: #f0f8ff;}#sk-container-id-19 input.sk-toggleable__control:checked~div.sk-toggleable__content {max-height: 200px;max-width: 100%;overflow: auto;}#sk-container-id-19 input.sk-toggleable__control:checked~label.sk-toggleable__label-arrow:before {content: \"▾\";}#sk-container-id-19 div.sk-estimator input.sk-toggleable__control:checked~label.sk-toggleable__label {background-color: #d4ebff;}#sk-container-id-19 div.sk-label input.sk-toggleable__control:checked~label.sk-toggleable__label {background-color: #d4ebff;}#sk-container-id-19 input.sk-hidden--visually {border: 0;clip: rect(1px 1px 1px 1px);clip: rect(1px, 1px, 1px, 1px);height: 1px;margin: -1px;overflow: hidden;padding: 0;position: absolute;width: 1px;}#sk-container-id-19 div.sk-estimator {font-family: monospace;background-color: #f0f8ff;border: 1px dotted black;border-radius: 0.25em;box-sizing: border-box;margin-bottom: 0.5em;}#sk-container-id-19 div.sk-estimator:hover {background-color: #d4ebff;}#sk-container-id-19 div.sk-parallel-item::after {content: \"\";width: 100%;border-bottom: 1px solid gray;flex-grow: 1;}#sk-container-id-19 div.sk-label:hover label.sk-toggleable__label {background-color: #d4ebff;}#sk-container-id-19 div.sk-serial::before {content: \"\";position: absolute;border-left: 1px solid gray;box-sizing: border-box;top: 0;bottom: 0;left: 50%;z-index: 0;}#sk-container-id-19 div.sk-serial {display: flex;flex-direction: column;align-items: center;background-color: white;padding-right: 0.2em;padding-left: 0.2em;position: relative;}#sk-container-id-19 div.sk-item {position: relative;z-index: 1;}#sk-container-id-19 div.sk-parallel {display: flex;align-items: stretch;justify-content: center;background-color: white;position: relative;}#sk-container-id-19 div.sk-item::before, #sk-container-id-19 div.sk-parallel-item::before {content: \"\";position: absolute;border-left: 1px solid gray;box-sizing: border-box;top: 0;bottom: 0;left: 50%;z-index: -1;}#sk-container-id-19 div.sk-parallel-item {display: flex;flex-direction: column;z-index: 1;position: relative;background-color: white;}#sk-container-id-19 div.sk-parallel-item:first-child::after {align-self: flex-end;width: 50%;}#sk-container-id-19 div.sk-parallel-item:last-child::after {align-self: flex-start;width: 50%;}#sk-container-id-19 div.sk-parallel-item:only-child::after {width: 0;}#sk-container-id-19 div.sk-dashed-wrapped {border: 1px dashed gray;margin: 0 0.4em 0.5em 0.4em;box-sizing: border-box;padding-bottom: 0.4em;background-color: white;}#sk-container-id-19 div.sk-label label {font-family: monospace;font-weight: bold;display: inline-block;line-height: 1.2em;}#sk-container-id-19 div.sk-label-container {text-align: center;}#sk-container-id-19 div.sk-container {/* jupyter's `normalize.less` sets `[hidden] { display: none; }` but bootstrap.min.css set `[hidden] { display: none !important; }` so we also need the `!important` here to be able to override the default hidden behavior on the sphinx rendered scikit-learn.org. See: https://github.com/scikit-learn/scikit-learn/issues/21755 */display: inline-block !important;position: relative;}#sk-container-id-19 div.sk-text-repr-fallback {display: none;}</style><div id=\"sk-container-id-19\" class=\"sk-top-container\"><div class=\"sk-text-repr-fallback\"><pre>GridSearchCV(cv=StratifiedKFold(n_splits=5, random_state=None, shuffle=False),\n",
              "             estimator=LogisticRegression(), n_jobs=-1,\n",
              "             param_grid={&#x27;C&#x27;: [100, 10, 1.0, 0.1, 0.01],\n",
              "                         &#x27;penalty&#x27;: [&#x27;l2&#x27;, &#x27;none&#x27;],\n",
              "                         &#x27;solver&#x27;: [&#x27;newton-cg&#x27;, &#x27;lbfgs&#x27;, &#x27;sag&#x27;, &#x27;saga&#x27;]},\n",
              "             scoring=&#x27;accuracy&#x27;)</pre><b>In a Jupyter environment, please rerun this cell to show the HTML representation or trust the notebook. <br />On GitHub, the HTML representation is unable to render, please try loading this page with nbviewer.org.</b></div><div class=\"sk-container\" hidden><div class=\"sk-item sk-dashed-wrapped\"><div class=\"sk-label-container\"><div class=\"sk-label sk-toggleable\"><input class=\"sk-toggleable__control sk-hidden--visually\" id=\"sk-estimator-id-51\" type=\"checkbox\" ><label for=\"sk-estimator-id-51\" class=\"sk-toggleable__label sk-toggleable__label-arrow\">GridSearchCV</label><div class=\"sk-toggleable__content\"><pre>GridSearchCV(cv=StratifiedKFold(n_splits=5, random_state=None, shuffle=False),\n",
              "             estimator=LogisticRegression(), n_jobs=-1,\n",
              "             param_grid={&#x27;C&#x27;: [100, 10, 1.0, 0.1, 0.01],\n",
              "                         &#x27;penalty&#x27;: [&#x27;l2&#x27;, &#x27;none&#x27;],\n",
              "                         &#x27;solver&#x27;: [&#x27;newton-cg&#x27;, &#x27;lbfgs&#x27;, &#x27;sag&#x27;, &#x27;saga&#x27;]},\n",
              "             scoring=&#x27;accuracy&#x27;)</pre></div></div></div><div class=\"sk-parallel\"><div class=\"sk-parallel-item\"><div class=\"sk-item\"><div class=\"sk-label-container\"><div class=\"sk-label sk-toggleable\"><input class=\"sk-toggleable__control sk-hidden--visually\" id=\"sk-estimator-id-52\" type=\"checkbox\" ><label for=\"sk-estimator-id-52\" class=\"sk-toggleable__label sk-toggleable__label-arrow\">estimator: LogisticRegression</label><div class=\"sk-toggleable__content\"><pre>LogisticRegression()</pre></div></div></div><div class=\"sk-serial\"><div class=\"sk-item\"><div class=\"sk-estimator sk-toggleable\"><input class=\"sk-toggleable__control sk-hidden--visually\" id=\"sk-estimator-id-53\" type=\"checkbox\" ><label for=\"sk-estimator-id-53\" class=\"sk-toggleable__label sk-toggleable__label-arrow\">LogisticRegression</label><div class=\"sk-toggleable__content\"><pre>LogisticRegression()</pre></div></div></div></div></div></div></div></div></div></div>"
            ]
          },
          "metadata": {},
          "execution_count": 82
        }
      ]
    },
    {
      "cell_type": "code",
      "source": [
        "grid1.best_params_"
      ],
      "metadata": {
        "colab": {
          "base_uri": "https://localhost:8080/"
        },
        "id": "pf1RMEHKDVdA",
        "outputId": "393e34a5-de10-4a88-c4a1-f278b398e28f"
      },
      "execution_count": 83,
      "outputs": [
        {
          "output_type": "execute_result",
          "data": {
            "text/plain": [
              "{'C': 0.01, 'penalty': 'l2', 'solver': 'newton-cg'}"
            ]
          },
          "metadata": {},
          "execution_count": 83
        }
      ]
    },
    {
      "cell_type": "code",
      "source": [
        "grid1.best_score_"
      ],
      "metadata": {
        "colab": {
          "base_uri": "https://localhost:8080/"
        },
        "id": "QBpg5rN4H6ks",
        "outputId": "fbb6792d-6638-4c88-9d96-77af3ea35e92"
      },
      "execution_count": 84,
      "outputs": [
        {
          "output_type": "execute_result",
          "data": {
            "text/plain": [
              "0.8714285714285716"
            ]
          },
          "metadata": {},
          "execution_count": 84
        }
      ]
    },
    {
      "cell_type": "code",
      "source": [
        "y_pred1 = grid1.predict(X_test)"
      ],
      "metadata": {
        "id": "ey9l6YYYIGmF"
      },
      "execution_count": 85,
      "outputs": []
    },
    {
      "cell_type": "code",
      "source": [
        "#Performance metrics\n",
        "from sklearn.metrics import accuracy_score,confusion_matrix,classification_report"
      ],
      "metadata": {
        "id": "LYmOIZRUISDl"
      },
      "execution_count": 86,
      "outputs": []
    },
    {
      "cell_type": "code",
      "source": [
        "score = accuracy_score(Y_test,y_pred1)\n",
        "print(score)\n",
        "cm = confusion_matrix(Y_test,y_pred1)\n",
        "print(cm)\n",
        "print(classification_report(Y_test,y_pred1))"
      ],
      "metadata": {
        "colab": {
          "base_uri": "https://localhost:8080/"
        },
        "id": "pWM8YRd7IVca",
        "outputId": "6aae4b61-ce4c-40b0-f101-de7894e09d6d"
      },
      "execution_count": 87,
      "outputs": [
        {
          "output_type": "stream",
          "name": "stdout",
          "text": [
            "0.8633333333333333\n",
            "[[135  21]\n",
            " [ 20 124]]\n",
            "              precision    recall  f1-score   support\n",
            "\n",
            "           0       0.87      0.87      0.87       156\n",
            "           1       0.86      0.86      0.86       144\n",
            "\n",
            "    accuracy                           0.86       300\n",
            "   macro avg       0.86      0.86      0.86       300\n",
            "weighted avg       0.86      0.86      0.86       300\n",
            "\n"
          ]
        }
      ]
    },
    {
      "cell_type": "code",
      "source": [],
      "metadata": {
        "id": "2gS1suftId6H"
      },
      "execution_count": null,
      "outputs": []
    }
  ]
}